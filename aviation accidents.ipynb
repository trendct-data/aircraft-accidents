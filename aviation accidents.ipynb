{
 "cells": [
  {
   "cell_type": "code",
   "execution_count": 1,
   "metadata": {
    "collapsed": false
   },
   "outputs": [
    {
     "data": {
      "text/html": [
       "<div>\n",
       "<table border=\"1\" class=\"dataframe\">\n",
       "  <thead>\n",
       "    <tr style=\"text-align: right;\">\n",
       "      <th></th>\n",
       "      <th>Event Id</th>\n",
       "      <th>Investigation Type</th>\n",
       "      <th>Accident Number</th>\n",
       "      <th>Event Date</th>\n",
       "      <th>Location</th>\n",
       "      <th>Country</th>\n",
       "      <th>Latitude</th>\n",
       "      <th>Longitude</th>\n",
       "      <th>Airport Code</th>\n",
       "      <th>Airport Name</th>\n",
       "      <th>...</th>\n",
       "      <th>Air Carrier</th>\n",
       "      <th>Total Fatal Injuries</th>\n",
       "      <th>Total Serious Injuries</th>\n",
       "      <th>Total Minor Injuries</th>\n",
       "      <th>Total Uninjured</th>\n",
       "      <th>Weather Condition</th>\n",
       "      <th>Broad Phase of Flight</th>\n",
       "      <th>Report Status</th>\n",
       "      <th>Publication Date</th>\n",
       "      <th></th>\n",
       "    </tr>\n",
       "  </thead>\n",
       "  <tbody>\n",
       "    <tr>\n",
       "      <th>0</th>\n",
       "      <td>20160404X31701</td>\n",
       "      <td>Accident</td>\n",
       "      <td>GAA16CA173</td>\n",
       "      <td>03/30/2016</td>\n",
       "      <td>Long Island, NC</td>\n",
       "      <td>United States</td>\n",
       "      <td>35.653611</td>\n",
       "      <td>-80.959722</td>\n",
       "      <td>NC26</td>\n",
       "      <td>LONG ISLAND</td>\n",
       "      <td>...</td>\n",
       "      <td></td>\n",
       "      <td></td>\n",
       "      <td></td>\n",
       "      <td>1</td>\n",
       "      <td>2</td>\n",
       "      <td>VMC</td>\n",
       "      <td></td>\n",
       "      <td>Preliminary</td>\n",
       "      <td>04/04/2016</td>\n",
       "      <td></td>\n",
       "    </tr>\n",
       "    <tr>\n",
       "      <th>1</th>\n",
       "      <td>20160330X23316</td>\n",
       "      <td>Accident</td>\n",
       "      <td>GAA16CA170</td>\n",
       "      <td>03/29/2016</td>\n",
       "      <td>Ridgeland, SC</td>\n",
       "      <td>United States</td>\n",
       "      <td>32.493333</td>\n",
       "      <td>-80.991944</td>\n",
       "      <td>3J1</td>\n",
       "      <td>RIDGELAND</td>\n",
       "      <td>...</td>\n",
       "      <td></td>\n",
       "      <td></td>\n",
       "      <td></td>\n",
       "      <td></td>\n",
       "      <td></td>\n",
       "      <td></td>\n",
       "      <td></td>\n",
       "      <td>Preliminary</td>\n",
       "      <td>04/05/2016</td>\n",
       "      <td></td>\n",
       "    </tr>\n",
       "  </tbody>\n",
       "</table>\n",
       "<p>2 rows × 32 columns</p>\n",
       "</div>"
      ],
      "text/plain": [
       "         Event Id   Investigation Type   Accident Number    Event Date   \\\n",
       "0  20160404X31701             Accident        GAA16CA173    03/30/2016    \n",
       "1  20160330X23316             Accident        GAA16CA170    03/29/2016    \n",
       "\n",
       "           Location          Country     Latitude     Longitude   \\\n",
       "0   Long Island, NC    United States    35.653611    -80.959722    \n",
       "1     Ridgeland, SC    United States    32.493333    -80.991944    \n",
       "\n",
       "   Airport Code   Airport Name  ...  Air Carrier   Total Fatal Injuries   \\\n",
       "0          NC26    LONG ISLAND  ...                                        \n",
       "1           3J1      RIDGELAND  ...                                        \n",
       "\n",
       "   Total Serious Injuries   Total Minor Injuries   Total Uninjured   \\\n",
       "0                                              1                 2    \n",
       "1                                                                     \n",
       "\n",
       "   Weather Condition   Broad Phase of Flight   Report Status   \\\n",
       "0                VMC                             Preliminary    \n",
       "1                                                Preliminary    \n",
       "\n",
       "   Publication Date      \n",
       "0        04/04/2016      \n",
       "1        04/05/2016      \n",
       "\n",
       "[2 rows x 32 columns]"
      ]
     },
     "execution_count": 1,
     "metadata": {},
     "output_type": "execute_result"
    }
   ],
   "source": [
    "import pandas as pd, re\n",
    "\n",
    "accidents = pd.read_csv(\"data/AviationData.txt\",delimiter=\"|\")\n",
    "accidents.head(2)"
   ]
  },
  {
   "cell_type": "code",
   "execution_count": 2,
   "metadata": {
    "collapsed": false
   },
   "outputs": [],
   "source": [
    "def clean_cols (df):\n",
    "    return map (lambda x : re.sub(r'[^a-z^0-9]+','_',x.lower().strip()),df.columns)\n",
    "accidents.columns = clean_cols(accidents)"
   ]
  },
  {
   "cell_type": "code",
   "execution_count": 3,
   "metadata": {
    "collapsed": false
   },
   "outputs": [],
   "source": [
    "accidents[\"event_date\"] = pd.to_datetime(accidents[\"event_date\"],errors=\"coerce\")"
   ]
  },
  {
   "cell_type": "code",
   "execution_count": 4,
   "metadata": {
    "collapsed": false
   },
   "outputs": [],
   "source": [
    "accidents[\"total_fatal_injuries\"] = pd.to_numeric(accidents[\"total_fatal_injuries\"], errors=\"coerce\")"
   ]
  },
  {
   "cell_type": "code",
   "execution_count": 5,
   "metadata": {
    "collapsed": false
   },
   "outputs": [],
   "source": [
    "accidents[\"fatal\"] = (accidents[\"total_fatal_injuries\"].notnull()) & (accidents[\"total_fatal_injuries\"] > 0)"
   ]
  },
  {
   "cell_type": "code",
   "execution_count": 6,
   "metadata": {
    "collapsed": false
   },
   "outputs": [],
   "source": [
    "ct_accidents = accidents[accidents[\"location\"].str.contains(\", CT\")]"
   ]
  },
  {
   "cell_type": "markdown",
   "metadata": {},
   "source": [
    "## CT Total accidents"
   ]
  },
  {
   "cell_type": "code",
   "execution_count": 7,
   "metadata": {
    "collapsed": false
   },
   "outputs": [
    {
     "data": {
      "text/plain": [
       "451"
      ]
     },
     "execution_count": 7,
     "metadata": {},
     "output_type": "execute_result"
    }
   ],
   "source": [
    "max(ct_accidents.count())"
   ]
  },
  {
   "cell_type": "markdown",
   "metadata": {},
   "source": [
    "## CT count of fatal / non-fatal crashes"
   ]
  },
  {
   "cell_type": "code",
   "execution_count": 8,
   "metadata": {
    "collapsed": false
   },
   "outputs": [
    {
     "data": {
      "text/plain": [
       "False    364\n",
       "True      87\n",
       "Name: fatal, dtype: int64"
      ]
     },
     "execution_count": 8,
     "metadata": {},
     "output_type": "execute_result"
    }
   ],
   "source": [
    "ct_accidents[\"fatal\"].value_counts()"
   ]
  },
  {
   "cell_type": "code",
   "execution_count": 9,
   "metadata": {
    "collapsed": false
   },
   "outputs": [],
   "source": [
    "ct_fatals = ct_accidents[ct_accidents[\"fatal\"]]"
   ]
  },
  {
   "cell_type": "markdown",
   "metadata": {},
   "source": [
    "## Total deaths in fatal crashes"
   ]
  },
  {
   "cell_type": "code",
   "execution_count": 45,
   "metadata": {
    "collapsed": false,
    "scrolled": true
   },
   "outputs": [
    {
     "data": {
      "text/plain": [
       "153.0"
      ]
     },
     "execution_count": 45,
     "metadata": {},
     "output_type": "execute_result"
    }
   ],
   "source": [
    "ct_fatals[\"total_fatal_injuries\"].sum()"
   ]
  },
  {
   "cell_type": "markdown",
   "metadata": {},
   "source": [
    "## Weather conditions in CT fatal crashes"
   ]
  },
  {
   "cell_type": "code",
   "execution_count": 10,
   "metadata": {
    "collapsed": false
   },
   "outputs": [
    {
     "data": {
      "text/plain": [
       " VMC     52\n",
       " IMC     34\n",
       " UNK      1\n",
       "Name: weather_condition, dtype: int64"
      ]
     },
     "execution_count": 10,
     "metadata": {},
     "output_type": "execute_result"
    }
   ],
   "source": [
    "ct_fatals[\"weather_condition\"].value_counts()"
   ]
  },
  {
   "cell_type": "markdown",
   "metadata": {},
   "source": [
    "## CT Fatal crashes per year"
   ]
  },
  {
   "cell_type": "code",
   "execution_count": 29,
   "metadata": {
    "collapsed": false
   },
   "outputs": [
    {
     "data": {
      "text/plain": [
       "event_date\n",
       "198    33\n",
       "199    32\n",
       "200    16\n",
       "201     6\n",
       "Name: accident_number, dtype: int64"
      ]
     },
     "execution_count": 29,
     "metadata": {},
     "output_type": "execute_result"
    }
   ],
   "source": [
    "ct_fatals.groupby(ct_fatals['event_date'].map(lambda x: x.year / 10))[\"accident_number\"].count()"
   ]
  },
  {
   "cell_type": "markdown",
   "metadata": {},
   "source": [
    "## CT fatal crashes by purpose of flight"
   ]
  },
  {
   "cell_type": "code",
   "execution_count": 12,
   "metadata": {
    "collapsed": false
   },
   "outputs": [
    {
     "data": {
      "text/plain": [
       " Personal                66\n",
       " Unknown                  6\n",
       " Positioning              5\n",
       " Business                 4\n",
       " Instructional            2\n",
       " Ferry                    2\n",
       " Executive/Corporate      1\n",
       "                          1\n",
       "Name: purpose_of_flight, dtype: int64"
      ]
     },
     "execution_count": 12,
     "metadata": {},
     "output_type": "execute_result"
    }
   ],
   "source": [
    "ct_fatals[\"purpose_of_flight\"].value_counts()"
   ]
  },
  {
   "cell_type": "code",
   "execution_count": 13,
   "metadata": {
    "collapsed": false
   },
   "outputs": [
    {
     "data": {
      "text/plain": [
       "event_id                          object\n",
       "investigation_type                object\n",
       "accident_number                   object\n",
       "event_date                datetime64[ns]\n",
       "location                          object\n",
       "country                           object\n",
       "latitude                          object\n",
       "longitude                         object\n",
       "airport_code                      object\n",
       "airport_name                      object\n",
       "injury_severity                   object\n",
       "aircraft_damage                   object\n",
       "aircraft_category                 object\n",
       "registration_number               object\n",
       "make                              object\n",
       "model                             object\n",
       "amateur_built                     object\n",
       "number_of_engines                 object\n",
       "engine_type                       object\n",
       "far_description                   object\n",
       "schedule                          object\n",
       "purpose_of_flight                 object\n",
       "air_carrier                       object\n",
       "total_fatal_injuries             float64\n",
       "total_serious_injuries            object\n",
       "total_minor_injuries              object\n",
       "total_uninjured                   object\n",
       "weather_condition                 object\n",
       "broad_phase_of_flight             object\n",
       "report_status                     object\n",
       "publication_date                  object\n",
       "                                  object\n",
       "fatal                               bool\n",
       "dtype: object"
      ]
     },
     "execution_count": 13,
     "metadata": {},
     "output_type": "execute_result"
    }
   ],
   "source": [
    "ct_fatals.dtypes"
   ]
  },
  {
   "cell_type": "code",
   "execution_count": 14,
   "metadata": {
    "collapsed": false
   },
   "outputs": [
    {
     "data": {
      "text/plain": [
       "                               76\n",
       " Part 91: General Aviation     11\n",
       "Name: far_description, dtype: int64"
      ]
     },
     "execution_count": 14,
     "metadata": {},
     "output_type": "execute_result"
    }
   ],
   "source": [
    "ct_fatals[\"far_description\"].value_counts()"
   ]
  },
  {
   "cell_type": "code",
   "execution_count": 15,
   "metadata": {
    "collapsed": false
   },
   "outputs": [
    {
     "data": {
      "text/plain": [
       "                                       56892\n",
       " Part 91: General Aviation             17027\n",
       " Part 137: Agricultural                 1045\n",
       " Non-U.S., Non-Commercial                730\n",
       " Part 135: Air Taxi & Commuter           729\n",
       " Part 121: Air Carrier                   518\n",
       " Non-U.S., Commercial                    501\n",
       " Part 129: Foreign                       193\n",
       " Unknown                                 175\n",
       " Public Use                              170\n",
       " Part 133: Rotorcraft Ext. Load           93\n",
       " Part 91 Subpart K: Fractional            14\n",
       " Part 125: 20+ Pax,6000+ lbs               7\n",
       " Part 103: Ultralight                      7\n",
       " Armed Forces                              7\n",
       " Part 437: Commercial Space Flight         1\n",
       " Part 91F: Special Flt Ops.                1\n",
       "Name: far_description, dtype: int64"
      ]
     },
     "execution_count": 15,
     "metadata": {},
     "output_type": "execute_result"
    }
   ],
   "source": [
    "accidents[\"far_description\"].value_counts()"
   ]
  },
  {
   "cell_type": "code",
   "execution_count": 16,
   "metadata": {
    "collapsed": false
   },
   "outputs": [
    {
     "data": {
      "text/plain": [
       "event_id                          object\n",
       "investigation_type                object\n",
       "accident_number                   object\n",
       "event_date                datetime64[ns]\n",
       "location                          object\n",
       "country                           object\n",
       "latitude                          object\n",
       "longitude                         object\n",
       "airport_code                      object\n",
       "airport_name                      object\n",
       "injury_severity                   object\n",
       "aircraft_damage                   object\n",
       "aircraft_category                 object\n",
       "registration_number               object\n",
       "make                              object\n",
       "model                             object\n",
       "amateur_built                     object\n",
       "number_of_engines                 object\n",
       "engine_type                       object\n",
       "far_description                   object\n",
       "schedule                          object\n",
       "purpose_of_flight                 object\n",
       "air_carrier                       object\n",
       "total_fatal_injuries             float64\n",
       "total_serious_injuries            object\n",
       "total_minor_injuries              object\n",
       "total_uninjured                   object\n",
       "weather_condition                 object\n",
       "broad_phase_of_flight             object\n",
       "report_status                     object\n",
       "publication_date                  object\n",
       "                                  object\n",
       "fatal                               bool\n",
       "dtype: object"
      ]
     },
     "execution_count": 16,
     "metadata": {},
     "output_type": "execute_result"
    }
   ],
   "source": [
    "accidents.dtypes"
   ]
  },
  {
   "cell_type": "code",
   "execution_count": 17,
   "metadata": {
    "collapsed": false
   },
   "outputs": [
    {
     "data": {
      "text/plain": [
       "          66654\n",
       " UNK       4099\n",
       " NSCH      3842\n",
       " SCHD      3515\n",
       "Name: schedule, dtype: int64"
      ]
     },
     "execution_count": 17,
     "metadata": {},
     "output_type": "execute_result"
    }
   ],
   "source": [
    "accidents[\"schedule\"].value_counts()"
   ]
  },
  {
   "cell_type": "code",
   "execution_count": 18,
   "metadata": {
    "collapsed": false
   },
   "outputs": [
    {
     "data": {
      "text/plain": [
       "          427\n",
       " NSCH      13\n",
       " SCHD      11\n",
       "Name: schedule, dtype: int64"
      ]
     },
     "execution_count": 18,
     "metadata": {},
     "output_type": "execute_result"
    }
   ],
   "source": [
    "ct_accidents[\"schedule\"].value_counts()"
   ]
  },
  {
   "cell_type": "code",
   "execution_count": 19,
   "metadata": {
    "collapsed": false
   },
   "outputs": [
    {
     "data": {
      "text/plain": [
       " LANDING         145\n",
       " TAKEOFF          92\n",
       " APPROACH         66\n",
       " CRUISE           53\n",
       " MANEUVERING      31\n",
       " TAXI             16\n",
       " GO-AROUND        13\n",
       " CLIMB            12\n",
       " DESCENT           8\n",
       " STANDING          7\n",
       "                   6\n",
       " UNKNOWN           2\n",
       "Name: broad_phase_of_flight, dtype: int64"
      ]
     },
     "execution_count": 19,
     "metadata": {},
     "output_type": "execute_result"
    }
   ],
   "source": [
    "ct_accidents[\"broad_phase_of_flight\"].value_counts()"
   ]
  },
  {
   "cell_type": "code",
   "execution_count": 20,
   "metadata": {
    "collapsed": false
   },
   "outputs": [
    {
     "data": {
      "text/plain": [
       " APPROACH        25\n",
       " MANEUVERING     17\n",
       " CRUISE          13\n",
       " TAKEOFF          9\n",
       " GO-AROUND        7\n",
       " LANDING          6\n",
       " DESCENT          4\n",
       " CLIMB            2\n",
       " UNKNOWN          1\n",
       " TAXI             1\n",
       "                  1\n",
       " STANDING         1\n",
       "Name: broad_phase_of_flight, dtype: int64"
      ]
     },
     "execution_count": 20,
     "metadata": {},
     "output_type": "execute_result"
    }
   ],
   "source": [
    "ct_fatals[\"broad_phase_of_flight\"].value_counts()"
   ]
  },
  {
   "cell_type": "code",
   "execution_count": 21,
   "metadata": {
    "collapsed": false
   },
   "outputs": [
    {
     "data": {
      "text/plain": [
       " Reciprocating     73\n",
       " Turbo Prop         6\n",
       " Turbo Shaft        4\n",
       " Turbo Fan          2\n",
       " Turbo Jet          1\n",
       " Unknown            1\n",
       "Name: engine_type, dtype: int64"
      ]
     },
     "execution_count": 21,
     "metadata": {},
     "output_type": "execute_result"
    }
   ],
   "source": [
    "ct_fatals[\"engine_type\"].value_counts()"
   ]
  },
  {
   "cell_type": "code",
   "execution_count": 48,
   "metadata": {
    "collapsed": false
   },
   "outputs": [
    {
     "data": {
      "text/html": [
       "<div>\n",
       "<table border=\"1\" class=\"dataframe\">\n",
       "  <thead>\n",
       "    <tr style=\"text-align: right;\">\n",
       "      <th></th>\n",
       "      <th>location</th>\n",
       "    </tr>\n",
       "  </thead>\n",
       "  <tbody>\n",
       "    <tr>\n",
       "      <th>Danbury, Ct</th>\n",
       "      <td>43</td>\n",
       "    </tr>\n",
       "    <tr>\n",
       "      <th>Meriden, Ct</th>\n",
       "      <td>21</td>\n",
       "    </tr>\n",
       "    <tr>\n",
       "      <th>Oxford, Ct</th>\n",
       "      <td>21</td>\n",
       "    </tr>\n",
       "    <tr>\n",
       "      <th>Bridgeport, Ct</th>\n",
       "      <td>21</td>\n",
       "    </tr>\n",
       "    <tr>\n",
       "      <th>Ellington, Ct</th>\n",
       "      <td>18</td>\n",
       "    </tr>\n",
       "    <tr>\n",
       "      <th>Groton, Ct</th>\n",
       "      <td>17</td>\n",
       "    </tr>\n",
       "    <tr>\n",
       "      <th>Plainville, Ct</th>\n",
       "      <td>15</td>\n",
       "    </tr>\n",
       "    <tr>\n",
       "      <th>Hartford, Ct</th>\n",
       "      <td>15</td>\n",
       "    </tr>\n",
       "    <tr>\n",
       "      <th>New Haven, Ct</th>\n",
       "      <td>14</td>\n",
       "    </tr>\n",
       "    <tr>\n",
       "      <th>Burlington, Ct</th>\n",
       "      <td>13</td>\n",
       "    </tr>\n",
       "  </tbody>\n",
       "</table>\n",
       "</div>"
      ],
      "text/plain": [
       "                  location\n",
       " Danbury, Ct            43\n",
       " Meriden, Ct            21\n",
       " Oxford, Ct             21\n",
       " Bridgeport, Ct         21\n",
       " Ellington, Ct          18\n",
       " Groton, Ct             17\n",
       " Plainville, Ct         15\n",
       " Hartford, Ct           15\n",
       " New Haven, Ct          14\n",
       " Burlington, Ct         13"
      ]
     },
     "execution_count": 48,
     "metadata": {},
     "output_type": "execute_result"
    }
   ],
   "source": [
    "ct_accidents[\"location\"].str.title().value_counts().to_frame().head(10)"
   ]
  },
  {
   "cell_type": "code",
   "execution_count": 23,
   "metadata": {
    "collapsed": false
   },
   "outputs": [
    {
     "data": {
      "text/plain": [
       " Groton, Ct             7\n",
       " Danbury, Ct            6\n",
       " Bridgeport, Ct         4\n",
       " Oxford, Ct             3\n",
       " East Haddam, Ct        3\n",
       " Wallingford, Ct        3\n",
       " Meriden, Ct            2\n",
       " Brooklyn, Ct           2\n",
       " Madison, Ct            2\n",
       " Greenwich, Ct          2\n",
       " Plainville, Ct         2\n",
       " Ridgefield, Ct         2\n",
       " Stratford, Ct          2\n",
       " Burlington, Ct         2\n",
       " Eastford, Ct           1\n",
       " Glastonbury, Ct        1\n",
       " Bloomfield, Ct         1\n",
       " Cheshire, Ct           1\n",
       " New Haven, Ct          1\n",
       " Northford, Ct          1\n",
       " Middletown, Ct         1\n",
       " Coventry, Ct           1\n",
       " Windsor Locks, Ct      1\n",
       " Sterling, Ct           1\n",
       " Ellington, Ct          1\n",
       " Washington, Ct         1\n",
       " Gaylordsville, Ct      1\n",
       " Windham, Ct            1\n",
       " New Fairfield, Ct      1\n",
       " Middlebury, Ct         1\n",
       " Middlefield, Ct        1\n",
       " Pomfret, Ct            1\n",
       " Griswold, Ct           1\n",
       " Columbia, Ct           1\n",
       " Simsbury, Ct           1\n",
       " East Granby, Ct        1\n",
       " Fairfield, Ct          1\n",
       " Old Lyme, Ct           1\n",
       " Woodbury, Ct           1\n",
       " Killingworth, Ct       1\n",
       " So. Windsor, Ct        1\n",
       " Hebron, Ct             1\n",
       " Marlborough, Ct        1\n",
       " Milford, Ct            1\n",
       " Salisbury, Ct          1\n",
       " So.Glastonbury, Ct     1\n",
       " East Haven, Ct         1\n",
       " N. Stonington, Ct      1\n",
       " Hartford, Ct           1\n",
       " Chester, Ct            1\n",
       " Somers, Ct             1\n",
       " Westbrook, Ct          1\n",
       " Southbury, Ct          1\n",
       " Killingly, Ct          1\n",
       " Montville, Ct          1\n",
       " New Milford, Ct        1\n",
       " Shelton, Ct            1\n",
       " Canton, Ct             1\n",
       " Barkhamsted, Ct        1\n",
       "Name: location, dtype: int64"
      ]
     },
     "execution_count": 23,
     "metadata": {},
     "output_type": "execute_result"
    }
   ],
   "source": [
    "ct_fatals[\"location\"].str.title().value_counts()"
   ]
  },
  {
   "cell_type": "code",
   "execution_count": 24,
   "metadata": {
    "collapsed": false
   },
   "outputs": [
    {
     "ename": "ValueError",
     "evalue": "labels ['fatal'] not contained in axis",
     "output_type": "error",
     "traceback": [
      "\u001b[0;31m---------------------------------------------------------------------------\u001b[0m",
      "\u001b[0;31mValueError\u001b[0m                                Traceback (most recent call last)",
      "\u001b[0;32m<ipython-input-24-c4e19202e2e8>\u001b[0m in \u001b[0;36m<module>\u001b[0;34m()\u001b[0m\n\u001b[0;32m----> 1\u001b[0;31m \u001b[0mct_fatals\u001b[0m\u001b[0;34m.\u001b[0m\u001b[0mdrop\u001b[0m\u001b[0;34m(\u001b[0m\u001b[0;34m\"fatal\"\u001b[0m\u001b[0;34m)\u001b[0m\u001b[0;34m.\u001b[0m\u001b[0mto_csv\u001b[0m\u001b[0;34m(\u001b[0m\u001b[0;34m\"ct_fatal_crashes.csv\"\u001b[0m\u001b[0;34m)\u001b[0m\u001b[0;34m\u001b[0m\u001b[0m\n\u001b[0m",
      "\u001b[0;32m/Library/Python/2.7/site-packages/pandas/core/generic.pyc\u001b[0m in \u001b[0;36mdrop\u001b[0;34m(self, labels, axis, level, inplace, errors)\u001b[0m\n\u001b[1;32m   1615\u001b[0m                 \u001b[0mnew_axis\u001b[0m \u001b[0;34m=\u001b[0m \u001b[0maxis\u001b[0m\u001b[0;34m.\u001b[0m\u001b[0mdrop\u001b[0m\u001b[0;34m(\u001b[0m\u001b[0mlabels\u001b[0m\u001b[0;34m,\u001b[0m \u001b[0mlevel\u001b[0m\u001b[0;34m=\u001b[0m\u001b[0mlevel\u001b[0m\u001b[0;34m,\u001b[0m \u001b[0merrors\u001b[0m\u001b[0;34m=\u001b[0m\u001b[0merrors\u001b[0m\u001b[0;34m)\u001b[0m\u001b[0;34m\u001b[0m\u001b[0m\n\u001b[1;32m   1616\u001b[0m             \u001b[0;32melse\u001b[0m\u001b[0;34m:\u001b[0m\u001b[0;34m\u001b[0m\u001b[0m\n\u001b[0;32m-> 1617\u001b[0;31m                 \u001b[0mnew_axis\u001b[0m \u001b[0;34m=\u001b[0m \u001b[0maxis\u001b[0m\u001b[0;34m.\u001b[0m\u001b[0mdrop\u001b[0m\u001b[0;34m(\u001b[0m\u001b[0mlabels\u001b[0m\u001b[0;34m,\u001b[0m \u001b[0merrors\u001b[0m\u001b[0;34m=\u001b[0m\u001b[0merrors\u001b[0m\u001b[0;34m)\u001b[0m\u001b[0;34m\u001b[0m\u001b[0m\n\u001b[0m\u001b[1;32m   1618\u001b[0m             \u001b[0mdropped\u001b[0m \u001b[0;34m=\u001b[0m \u001b[0mself\u001b[0m\u001b[0;34m.\u001b[0m\u001b[0mreindex\u001b[0m\u001b[0;34m(\u001b[0m\u001b[0;34m**\u001b[0m\u001b[0;34m{\u001b[0m\u001b[0maxis_name\u001b[0m\u001b[0;34m:\u001b[0m \u001b[0mnew_axis\u001b[0m\u001b[0;34m}\u001b[0m\u001b[0;34m)\u001b[0m\u001b[0;34m\u001b[0m\u001b[0m\n\u001b[1;32m   1619\u001b[0m             \u001b[0;32mtry\u001b[0m\u001b[0;34m:\u001b[0m\u001b[0;34m\u001b[0m\u001b[0m\n",
      "\u001b[0;32m/Library/Python/2.7/site-packages/pandas/core/index.pyc\u001b[0m in \u001b[0;36mdrop\u001b[0;34m(self, labels, errors)\u001b[0m\n\u001b[1;32m   2801\u001b[0m         \u001b[0;32mif\u001b[0m \u001b[0mmask\u001b[0m\u001b[0;34m.\u001b[0m\u001b[0many\u001b[0m\u001b[0;34m(\u001b[0m\u001b[0;34m)\u001b[0m\u001b[0;34m:\u001b[0m\u001b[0;34m\u001b[0m\u001b[0m\n\u001b[1;32m   2802\u001b[0m             \u001b[0;32mif\u001b[0m \u001b[0merrors\u001b[0m \u001b[0;34m!=\u001b[0m \u001b[0;34m'ignore'\u001b[0m\u001b[0;34m:\u001b[0m\u001b[0;34m\u001b[0m\u001b[0m\n\u001b[0;32m-> 2803\u001b[0;31m                 \u001b[0;32mraise\u001b[0m \u001b[0mValueError\u001b[0m\u001b[0;34m(\u001b[0m\u001b[0;34m'labels %s not contained in axis'\u001b[0m \u001b[0;34m%\u001b[0m \u001b[0mlabels\u001b[0m\u001b[0;34m[\u001b[0m\u001b[0mmask\u001b[0m\u001b[0;34m]\u001b[0m\u001b[0;34m)\u001b[0m\u001b[0;34m\u001b[0m\u001b[0m\n\u001b[0m\u001b[1;32m   2804\u001b[0m             \u001b[0mindexer\u001b[0m \u001b[0;34m=\u001b[0m \u001b[0mindexer\u001b[0m\u001b[0;34m[\u001b[0m\u001b[0;34m~\u001b[0m\u001b[0mmask\u001b[0m\u001b[0;34m]\u001b[0m\u001b[0;34m\u001b[0m\u001b[0m\n\u001b[1;32m   2805\u001b[0m         \u001b[0;32mreturn\u001b[0m \u001b[0mself\u001b[0m\u001b[0;34m.\u001b[0m\u001b[0mdelete\u001b[0m\u001b[0;34m(\u001b[0m\u001b[0mindexer\u001b[0m\u001b[0;34m)\u001b[0m\u001b[0;34m\u001b[0m\u001b[0m\n",
      "\u001b[0;31mValueError\u001b[0m: labels ['fatal'] not contained in axis"
     ]
    }
   ],
   "source": []
  },
  {
   "cell_type": "code",
   "execution_count": 40,
   "metadata": {
    "collapsed": false
   },
   "outputs": [],
   "source": [
    "ct_fatals.to_csv(\"ct_fatal_plane_crashes.csv\")"
   ]
  },
  {
   "cell_type": "code",
   "execution_count": 42,
   "metadata": {
    "collapsed": true
   },
   "outputs": [],
   "source": []
  },
  {
   "cell_type": "code",
   "execution_count": 44,
   "metadata": {
    "collapsed": false
   },
   "outputs": [
    {
     "data": {
      "text/plain": [
       "event_id                          object\n",
       "investigation_type                object\n",
       "accident_number                   object\n",
       "event_date                datetime64[ns]\n",
       "location                          object\n",
       "country                           object\n",
       "latitude                          object\n",
       "longitude                         object\n",
       "airport_code                      object\n",
       "airport_name                      object\n",
       "injury_severity                   object\n",
       "aircraft_damage                   object\n",
       "aircraft_category                 object\n",
       "registration_number               object\n",
       "make                              object\n",
       "model                             object\n",
       "amateur_built                     object\n",
       "number_of_engines                 object\n",
       "engine_type                       object\n",
       "far_description                   object\n",
       "schedule                          object\n",
       "purpose_of_flight                 object\n",
       "air_carrier                       object\n",
       "total_fatal_injuries             float64\n",
       "total_serious_injuries            object\n",
       "total_minor_injuries              object\n",
       "total_uninjured                   object\n",
       "weather_condition                 object\n",
       "broad_phase_of_flight             object\n",
       "report_status                     object\n",
       "publication_date                  object\n",
       "                                  object\n",
       "fatal                               bool\n",
       "dtype: object"
      ]
     },
     "execution_count": 44,
     "metadata": {},
     "output_type": "execute_result"
    }
   ],
   "source": [
    "ct_fatals.dtypes"
   ]
  },
  {
   "cell_type": "code",
   "execution_count": 49,
   "metadata": {
    "collapsed": false
   },
   "outputs": [
    {
     "data": {
      "text/plain": [
       " Substantial     333\n",
       " Destroyed       104\n",
       " Minor            11\n",
       "                   3\n",
       "Name: aircraft_damage, dtype: int64"
      ]
     },
     "execution_count": 49,
     "metadata": {},
     "output_type": "execute_result"
    }
   ],
   "source": [
    "ct_accidents[\"aircraft_damage\"].value_counts()"
   ]
  },
  {
   "cell_type": "code",
   "execution_count": 50,
   "metadata": {
    "collapsed": false
   },
   "outputs": [
    {
     "data": {
      "text/plain": [
       " VMC     393\n",
       " IMC      56\n",
       " UNK       2\n",
       "Name: weather_condition, dtype: int64"
      ]
     },
     "execution_count": 50,
     "metadata": {},
     "output_type": "execute_result"
    }
   ],
   "source": [
    "ct_accidents[\"weather_condition\"].value_counts()"
   ]
  },
  {
   "cell_type": "code",
   "execution_count": 56,
   "metadata": {
    "collapsed": false
   },
   "outputs": [
    {
     "data": {
      "text/plain": [
       "                                                                 434\n",
       " PILGRIM AIRLINES                                                  2\n",
       " U.S. EXPRESS                                                      1\n",
       " ACTION AIR CHARTERS (DBA: ACTION AIR CHARTERS)                    1\n",
       " International Jet Charter, Inc.                                   1\n",
       " RYAN INTERNATIONAL AIRLINES                                       1\n",
       " (DBA: USAIRWAYS EXPRESS)                                          1\n",
       " COASTAL AIR SERVICES, INC.                                        1\n",
       " PGA TOUR INVESTMENTS                                              1\n",
       " BAR HARBOR AIRWAYS, INC.                                          1\n",
       " (DBA: U.S. CHECK)                                                 1\n",
       " BRITT AIRWAYS (DBA: CONTINENTAL EXPRESS)                          1\n",
       " WICO AVIATION, INC. (DBA: SAME)                                   1\n",
       " CONTINENTAL EXPRESS (DBA: CONTINENTAL EXPRESS)                    1\n",
       " BRITISH AIRWAYS                                                   1\n",
       " AIR CONTINENTAL, INC.                                             1\n",
       " CHAMPLAIN ENTERPRISES INC (DBA: CommutAir - United Express)       1\n",
       "Name: air_carrier, dtype: int64"
      ]
     },
     "execution_count": 56,
     "metadata": {},
     "output_type": "execute_result"
    }
   ],
   "source": [
    "ct_accidents[\"air_carrier\"].value_counts()"
   ]
  },
  {
   "cell_type": "code",
   "execution_count": 58,
   "metadata": {
    "collapsed": false
   },
   "outputs": [
    {
     "data": {
      "text/plain": [
       "                                   353\n",
       " Part 91: General Aviation          92\n",
       " Part 135: Air Taxi & Commuter       2\n",
       " Part 121: Air Carrier               1\n",
       " Non-U.S., Commercial                1\n",
       " Non-U.S., Non-Commercial            1\n",
       " Part 91 Subpart K: Fractional       1\n",
       "Name: far_description, dtype: int64"
      ]
     },
     "execution_count": 58,
     "metadata": {},
     "output_type": "execute_result"
    }
   ],
   "source": [
    "ct_accidents[\"far_description\"].value_counts()"
   ]
  },
  {
   "cell_type": "code",
   "execution_count": null,
   "metadata": {
    "collapsed": true
   },
   "outputs": [],
   "source": []
  }
 ],
 "metadata": {
  "kernelspec": {
   "display_name": "Python 2",
   "language": "python",
   "name": "python2"
  },
  "language_info": {
   "codemirror_mode": {
    "name": "ipython",
    "version": 2
   },
   "file_extension": ".py",
   "mimetype": "text/x-python",
   "name": "python",
   "nbconvert_exporter": "python",
   "pygments_lexer": "ipython2",
   "version": "2.7.11"
  }
 },
 "nbformat": 4,
 "nbformat_minor": 0
}
